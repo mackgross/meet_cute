{
 "cells": [
  {
   "cell_type": "markdown",
   "id": "a6e3447d",
   "metadata": {},
   "source": [
    "# Data Collection\n",
    "\n",
    "Scrape book data from Goodreads website. Get book title, author name, publication year, synopsis, average rating, number of ratings, and book length"
   ]
  },
  {
   "cell_type": "markdown",
   "id": "ec639caa",
   "metadata": {},
   "source": [
    "## Import Necessary Libraries"
   ]
  },
  {
   "cell_type": "code",
   "execution_count": 1,
   "id": "90433653",
   "metadata": {},
   "outputs": [],
   "source": [
    "import requests\n",
    "from bs4 import BeautifulSoup as bs\n",
    "import pandas as pd\n",
    "import re"
   ]
  },
  {
   "cell_type": "markdown",
   "id": "fd4a0bb6",
   "metadata": {},
   "source": [
    "## Create a list of html files"
   ]
  },
  {
   "cell_type": "code",
   "execution_count": 2,
   "id": "e7ebf680",
   "metadata": {},
   "outputs": [],
   "source": [
    "html_files = []\n",
    "for i in range(0, 25):\n",
    "    num = i + 1\n",
    "    html_files.append('romance' + str(num) + '.html')"
   ]
  },
  {
   "cell_type": "markdown",
   "id": "bba0b150",
   "metadata": {},
   "source": [
    "## Define functions"
   ]
  },
  {
   "cell_type": "code",
   "execution_count": 3,
   "id": "e86e64f8",
   "metadata": {},
   "outputs": [],
   "source": [
    "# function to normalize rating, number of ratings, and release year\n",
    "def norm_ratings(doc):\n",
    "    x = str(doc)\n",
    "    doc = re.sub(r'[^.\\d+]', '', x)\n",
    "    doc = doc.strip()\n",
    "    return doc"
   ]
  },
  {
   "cell_type": "code",
   "execution_count": 4,
   "id": "53ff2e88",
   "metadata": {},
   "outputs": [],
   "source": [
    "# a function the get the book synopses and lengths\n",
    "def get_synop_length(link):\n",
    "    # request the html code for the individual book page\n",
    "    base = 'http://www.goodreads.com'\n",
    "    url = base + str(link)\n",
    "    req = requests.get(url)\n",
    "    soup2 = bs(req.text, 'html.parser')\n",
    "    \n",
    "    # get the book synopsis\n",
    "    synopsis = soup2.find('span', id=re.compile('[^freeText\\d+]'))\n",
    "    if synopsis != None:\n",
    "        synopsis = synopsis.text\n",
    "    \n",
    "    # get the book length\n",
    "    length = soup2.find('span', itemprop='numberOfPages')\n",
    "    length = str(length)\n",
    "    length = re.sub(r'[^\\d+]', '', length)\n",
    "    \n",
    "    return synopsis, length"
   ]
  },
  {
   "cell_type": "markdown",
   "id": "2a1de0c7",
   "metadata": {},
   "source": [
    "## Loop through all the files and save the titles to a list"
   ]
  },
  {
   "cell_type": "code",
   "execution_count": 5,
   "id": "420c7065",
   "metadata": {},
   "outputs": [],
   "source": [
    "# loop through each page of the Romance list\n",
    "# get lists of titles, authors, ratings, number of ratings, and release years\n",
    "book_list = []\n",
    "author_list = []\n",
    "rating_list = []\n",
    "num_ratings_list = []\n",
    "year_list = []\n",
    "synopsis_list = []\n",
    "length_list = []\n",
    "\n",
    "for page in range(len(html_files)):\n",
    "    file_name = html_files[page]\n",
    "    html_page = open(file_name, \"r\")\n",
    "    index = html_page.read()\n",
    "    soup = bs(index, 'html.parser')\n",
    "    titles = soup.find_all(class_='bookTitle')\n",
    "    authors = soup.find_all(class_='authorName')\n",
    "    ratings_nums_years = soup.find_all(class_='greyText smallText')\n",
    "    book_links = soup.find_all('a', class_='bookTitle', href=True)\n",
    "    \n",
    "    for x in range(len(titles)):\n",
    "        book_list.append(titles[x].text)\n",
    "        author_list.append(authors[x].text)\n",
    "    \n",
    "    for y in range(len(ratings_nums_years)):\n",
    "        rny = norm_ratings(ratings_nums_years[y])\n",
    "        rating_list.append(float(rny[:4]))\n",
    "        num_ratings_list.append(int(rny[4:-4]))\n",
    "        year_list.append(int(rny[-4:]))\n",
    "        \n",
    "    for z in range(len(book_links)):\n",
    "        book_syn, book_len = get_synop_length(book_links[z]['href'])\n",
    "        synopsis_list.append(book_syn)\n",
    "        length_list.append(book_len)"
   ]
  },
  {
   "cell_type": "markdown",
   "id": "31bed9b8",
   "metadata": {},
   "source": [
    "## Compile data in a data frame"
   ]
  },
  {
   "cell_type": "code",
   "execution_count": 6,
   "id": "38378f82",
   "metadata": {},
   "outputs": [
    {
     "data": {
      "text/html": [
       "<div>\n",
       "<style scoped>\n",
       "    .dataframe tbody tr th:only-of-type {\n",
       "        vertical-align: middle;\n",
       "    }\n",
       "\n",
       "    .dataframe tbody tr th {\n",
       "        vertical-align: top;\n",
       "    }\n",
       "\n",
       "    .dataframe thead th {\n",
       "        text-align: right;\n",
       "    }\n",
       "</style>\n",
       "<table border=\"1\" class=\"dataframe\">\n",
       "  <thead>\n",
       "    <tr style=\"text-align: right;\">\n",
       "      <th></th>\n",
       "      <th>title</th>\n",
       "      <th>author</th>\n",
       "      <th>release year</th>\n",
       "      <th>synopsis</th>\n",
       "      <th>book length</th>\n",
       "      <th>rating</th>\n",
       "      <th>number of ratings</th>\n",
       "    </tr>\n",
       "  </thead>\n",
       "  <tbody>\n",
       "    <tr>\n",
       "      <th>0</th>\n",
       "      <td>Pride and Prejudice (Paperback)</td>\n",
       "      <td>Jane Austen</td>\n",
       "      <td>1813</td>\n",
       "      <td>None</td>\n",
       "      <td></td>\n",
       "      <td>4.28</td>\n",
       "      <td>3732237</td>\n",
       "    </tr>\n",
       "    <tr>\n",
       "      <th>1</th>\n",
       "      <td>The Fault in Our Stars (Hardcover)</td>\n",
       "      <td>John Green</td>\n",
       "      <td>2012</td>\n",
       "      <td>None</td>\n",
       "      <td></td>\n",
       "      <td>4.16</td>\n",
       "      <td>4501032</td>\n",
       "    </tr>\n",
       "    <tr>\n",
       "      <th>2</th>\n",
       "      <td>Red, White &amp; Royal Blue (Paperback)</td>\n",
       "      <td>Casey McQuiston</td>\n",
       "      <td>2019</td>\n",
       "      <td>None</td>\n",
       "      <td></td>\n",
       "      <td>4.16</td>\n",
       "      <td>607767</td>\n",
       "    </tr>\n",
       "    <tr>\n",
       "      <th>3</th>\n",
       "      <td>Twilight (The Twilight Saga, #1)</td>\n",
       "      <td>Stephenie Meyer</td>\n",
       "      <td>2005</td>\n",
       "      <td>About three things I was absolutely positive.F...</td>\n",
       "      <td>498</td>\n",
       "      <td>3.63</td>\n",
       "      <td>5901197</td>\n",
       "    </tr>\n",
       "    <tr>\n",
       "      <th>4</th>\n",
       "      <td>The Hating Game (Paperback)</td>\n",
       "      <td>Sally  Thorne</td>\n",
       "      <td>2016</td>\n",
       "      <td>Nemesis (n.) 1) An opponent or rival whom a pe...</td>\n",
       "      <td>365</td>\n",
       "      <td>3.98</td>\n",
       "      <td>537504</td>\n",
       "    </tr>\n",
       "    <tr>\n",
       "      <th>5</th>\n",
       "      <td>Beach Read (Paperback)</td>\n",
       "      <td>Emily Henry</td>\n",
       "      <td>2020</td>\n",
       "      <td>A romance writer who no longer believes in lov...</td>\n",
       "      <td>361</td>\n",
       "      <td>4.06</td>\n",
       "      <td>607628</td>\n",
       "    </tr>\n",
       "    <tr>\n",
       "      <th>6</th>\n",
       "      <td>The Kiss Quotient (Kindle Edition)</td>\n",
       "      <td>Helen Hoang</td>\n",
       "      <td>2018</td>\n",
       "      <td>None</td>\n",
       "      <td></td>\n",
       "      <td>3.94</td>\n",
       "      <td>331121</td>\n",
       "    </tr>\n",
       "    <tr>\n",
       "      <th>7</th>\n",
       "      <td>It Ends with Us (Kindle Edition)</td>\n",
       "      <td>Colleen Hoover</td>\n",
       "      <td>2016</td>\n",
       "      <td>None</td>\n",
       "      <td></td>\n",
       "      <td>4.38</td>\n",
       "      <td>1641804</td>\n",
       "    </tr>\n",
       "    <tr>\n",
       "      <th>8</th>\n",
       "      <td>The Love Hypothesis (Paperback)</td>\n",
       "      <td>Ali Hazelwood</td>\n",
       "      <td>2021</td>\n",
       "      <td>As a third-year Ph.D. candidate, Olive Smith d...</td>\n",
       "      <td>356</td>\n",
       "      <td>4.29</td>\n",
       "      <td>724017</td>\n",
       "    </tr>\n",
       "    <tr>\n",
       "      <th>9</th>\n",
       "      <td>The Unhoneymooners (Paperback)</td>\n",
       "      <td>Christina Lauren</td>\n",
       "      <td>2019</td>\n",
       "      <td>None</td>\n",
       "      <td></td>\n",
       "      <td>3.98</td>\n",
       "      <td>525789</td>\n",
       "    </tr>\n",
       "  </tbody>\n",
       "</table>\n",
       "</div>"
      ],
      "text/plain": [
       "                                 title            author  release year  \\\n",
       "0      Pride and Prejudice (Paperback)       Jane Austen          1813   \n",
       "1   The Fault in Our Stars (Hardcover)        John Green          2012   \n",
       "2  Red, White & Royal Blue (Paperback)   Casey McQuiston          2019   \n",
       "3     Twilight (The Twilight Saga, #1)   Stephenie Meyer          2005   \n",
       "4          The Hating Game (Paperback)     Sally  Thorne          2016   \n",
       "5               Beach Read (Paperback)       Emily Henry          2020   \n",
       "6   The Kiss Quotient (Kindle Edition)       Helen Hoang          2018   \n",
       "7     It Ends with Us (Kindle Edition)    Colleen Hoover          2016   \n",
       "8      The Love Hypothesis (Paperback)     Ali Hazelwood          2021   \n",
       "9       The Unhoneymooners (Paperback)  Christina Lauren          2019   \n",
       "\n",
       "                                            synopsis book length  rating  \\\n",
       "0                                               None                4.28   \n",
       "1                                               None                4.16   \n",
       "2                                               None                4.16   \n",
       "3  About three things I was absolutely positive.F...         498    3.63   \n",
       "4  Nemesis (n.) 1) An opponent or rival whom a pe...         365    3.98   \n",
       "5  A romance writer who no longer believes in lov...         361    4.06   \n",
       "6                                               None                3.94   \n",
       "7                                               None                4.38   \n",
       "8  As a third-year Ph.D. candidate, Olive Smith d...         356    4.29   \n",
       "9                                               None                3.98   \n",
       "\n",
       "   number of ratings  \n",
       "0            3732237  \n",
       "1            4501032  \n",
       "2             607767  \n",
       "3            5901197  \n",
       "4             537504  \n",
       "5             607628  \n",
       "6             331121  \n",
       "7            1641804  \n",
       "8             724017  \n",
       "9             525789  "
      ]
     },
     "execution_count": 6,
     "metadata": {},
     "output_type": "execute_result"
    }
   ],
   "source": [
    "data = {'title': book_list,\n",
    "        'author': author_list,\n",
    "        'release year': year_list,\n",
    "        'synopsis': synopsis_list,\n",
    "        'book length': length_list,\n",
    "        'rating': rating_list,\n",
    "        'number of ratings': num_ratings_list\n",
    "       }\n",
    "book_df = pd.DataFrame(data)\n",
    "\n",
    "# preview first 10 rows of the data frame\n",
    "book_df.head(10)"
   ]
  },
  {
   "cell_type": "code",
   "execution_count": 7,
   "id": "0da0bd6e",
   "metadata": {},
   "outputs": [
    {
     "name": "stdout",
     "output_type": "stream",
     "text": [
      "605\n"
     ]
    }
   ],
   "source": [
    "count = 0\n",
    "for i in range(len(book_df)):\n",
    "    if book_df.loc[i, 'synopsis'] == None:\n",
    "        count += 1\n",
    "print(count)"
   ]
  },
  {
   "cell_type": "markdown",
   "id": "1250dc16",
   "metadata": {},
   "source": [
    "## Save data to a csv file"
   ]
  },
  {
   "cell_type": "code",
   "execution_count": 9,
   "id": "06a889c7",
   "metadata": {},
   "outputs": [],
   "source": [
    "book_df.to_csv('books.csv')"
   ]
  }
 ],
 "metadata": {
  "kernelspec": {
   "display_name": "Python 3 (ipykernel)",
   "language": "python",
   "name": "python3"
  },
  "language_info": {
   "codemirror_mode": {
    "name": "ipython",
    "version": 3
   },
   "file_extension": ".py",
   "mimetype": "text/x-python",
   "name": "python",
   "nbconvert_exporter": "python",
   "pygments_lexer": "ipython3",
   "version": "3.7.7"
  }
 },
 "nbformat": 4,
 "nbformat_minor": 5
}

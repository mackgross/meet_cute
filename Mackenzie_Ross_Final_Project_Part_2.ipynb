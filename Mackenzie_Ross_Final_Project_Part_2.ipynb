{
 "cells": [
  {
   "cell_type": "markdown",
   "id": "2bbe94b9",
   "metadata": {},
   "source": [
    "# Meet Cute: A Romance Book Recommender\n",
    "Author: Mackenzie Ross\n",
    "\n",
    "In this notebook, I will be cleaning the text data from my book data, performing feature extraction, and building the recommendation engine."
   ]
  },
  {
   "cell_type": "markdown",
   "id": "967bbc3b",
   "metadata": {},
   "source": [
    "## Load Dataset"
   ]
  },
  {
   "cell_type": "code",
   "execution_count": 1,
   "id": "75c1f651",
   "metadata": {},
   "outputs": [
    {
     "data": {
      "text/plain": [
       "'/Users/mackenzieross/Documents/17th Grade/Fall 2022/Intro to NLP/Meet Cute/meet_cute'"
      ]
     },
     "execution_count": 1,
     "metadata": {},
     "output_type": "execute_result"
    }
   ],
   "source": [
    "import os\n",
    "os.getcwd()"
   ]
  },
  {
   "cell_type": "code",
   "execution_count": 2,
   "id": "5838851d",
   "metadata": {},
   "outputs": [
    {
     "data": {
      "text/plain": [
       "'/Users/mackenzieross/Documents/17th Grade/Fall 2022/Intro to NLP/Meet Cute/meet_cute/Data'"
      ]
     },
     "execution_count": 2,
     "metadata": {},
     "output_type": "execute_result"
    }
   ],
   "source": [
    "os.chdir('/Users/mackenzieross/Documents/17th Grade/Fall 2022/Intro to NLP/Meet Cute/meet_cute/Data')\n",
    "os.getcwd()"
   ]
  },
  {
   "cell_type": "code",
   "execution_count": 3,
   "id": "101ab062",
   "metadata": {},
   "outputs": [
    {
     "name": "stdout",
     "output_type": "stream",
     "text": [
      "<class 'pandas.core.frame.DataFrame'>\n",
      "RangeIndex: 1242 entries, 0 to 1241\n",
      "Data columns (total 8 columns):\n",
      " #   Column             Non-Null Count  Dtype  \n",
      "---  ------             --------------  -----  \n",
      " 0   Unnamed: 0         1242 non-null   int64  \n",
      " 1   title              1242 non-null   object \n",
      " 2   author             1242 non-null   object \n",
      " 3   release year       1242 non-null   int64  \n",
      " 4   synopsis           1242 non-null   object \n",
      " 5   book length        1242 non-null   int64  \n",
      " 6   rating             1242 non-null   float64\n",
      " 7   number of ratings  1242 non-null   int64  \n",
      "dtypes: float64(1), int64(4), object(3)\n",
      "memory usage: 77.8+ KB\n"
     ]
    }
   ],
   "source": [
    "import pandas as pd\n",
    "\n",
    "book_df = pd.read_csv('books.csv')\n",
    "book_df.info()"
   ]
  },
  {
   "cell_type": "code",
   "execution_count": 4,
   "id": "67997e32",
   "metadata": {},
   "outputs": [
    {
     "data": {
      "text/html": [
       "<div>\n",
       "<style scoped>\n",
       "    .dataframe tbody tr th:only-of-type {\n",
       "        vertical-align: middle;\n",
       "    }\n",
       "\n",
       "    .dataframe tbody tr th {\n",
       "        vertical-align: top;\n",
       "    }\n",
       "\n",
       "    .dataframe thead th {\n",
       "        text-align: right;\n",
       "    }\n",
       "</style>\n",
       "<table border=\"1\" class=\"dataframe\">\n",
       "  <thead>\n",
       "    <tr style=\"text-align: right;\">\n",
       "      <th></th>\n",
       "      <th>Unnamed: 0</th>\n",
       "      <th>title</th>\n",
       "      <th>author</th>\n",
       "      <th>release year</th>\n",
       "      <th>synopsis</th>\n",
       "      <th>book length</th>\n",
       "      <th>rating</th>\n",
       "      <th>number of ratings</th>\n",
       "    </tr>\n",
       "  </thead>\n",
       "  <tbody>\n",
       "    <tr>\n",
       "      <th>0</th>\n",
       "      <td>0</td>\n",
       "      <td>Pride and Prejudice (Paperback)</td>\n",
       "      <td>Jane Austen</td>\n",
       "      <td>1813</td>\n",
       "      <td>Alternate cover edition of ISBN 9780679783268S...</td>\n",
       "      <td>279</td>\n",
       "      <td>4.28</td>\n",
       "      <td>3732237</td>\n",
       "    </tr>\n",
       "    <tr>\n",
       "      <th>1</th>\n",
       "      <td>1</td>\n",
       "      <td>The Fault in Our Stars (Hardcover)</td>\n",
       "      <td>John Green</td>\n",
       "      <td>2012</td>\n",
       "      <td>Despite the tumor-shrinking medical miracle th...</td>\n",
       "      <td>313</td>\n",
       "      <td>4.16</td>\n",
       "      <td>4501032</td>\n",
       "    </tr>\n",
       "    <tr>\n",
       "      <th>2</th>\n",
       "      <td>2</td>\n",
       "      <td>Red, White &amp; Royal Blue (Paperback)</td>\n",
       "      <td>Casey McQuiston</td>\n",
       "      <td>2019</td>\n",
       "      <td>Original cover edition of ASIN B07J4LPZRN here...</td>\n",
       "      <td>448</td>\n",
       "      <td>4.16</td>\n",
       "      <td>607767</td>\n",
       "    </tr>\n",
       "    <tr>\n",
       "      <th>3</th>\n",
       "      <td>3</td>\n",
       "      <td>Twilight (The Twilight Saga, #1)</td>\n",
       "      <td>Stephenie Meyer</td>\n",
       "      <td>2005</td>\n",
       "      <td>About three things I was absolutely positive.F...</td>\n",
       "      <td>498</td>\n",
       "      <td>3.63</td>\n",
       "      <td>5901197</td>\n",
       "    </tr>\n",
       "    <tr>\n",
       "      <th>4</th>\n",
       "      <td>4</td>\n",
       "      <td>The Hating Game (Paperback)</td>\n",
       "      <td>Sally  Thorne</td>\n",
       "      <td>2016</td>\n",
       "      <td>Nemesis (n.) 1) An opponent or rival whom a pe...</td>\n",
       "      <td>365</td>\n",
       "      <td>3.98</td>\n",
       "      <td>537504</td>\n",
       "    </tr>\n",
       "  </tbody>\n",
       "</table>\n",
       "</div>"
      ],
      "text/plain": [
       "   Unnamed: 0                                title           author  \\\n",
       "0           0      Pride and Prejudice (Paperback)      Jane Austen   \n",
       "1           1   The Fault in Our Stars (Hardcover)       John Green   \n",
       "2           2  Red, White & Royal Blue (Paperback)  Casey McQuiston   \n",
       "3           3     Twilight (The Twilight Saga, #1)  Stephenie Meyer   \n",
       "4           4          The Hating Game (Paperback)    Sally  Thorne   \n",
       "\n",
       "   release year                                           synopsis  \\\n",
       "0          1813  Alternate cover edition of ISBN 9780679783268S...   \n",
       "1          2012  Despite the tumor-shrinking medical miracle th...   \n",
       "2          2019  Original cover edition of ASIN B07J4LPZRN here...   \n",
       "3          2005  About three things I was absolutely positive.F...   \n",
       "4          2016  Nemesis (n.) 1) An opponent or rival whom a pe...   \n",
       "\n",
       "   book length  rating  number of ratings  \n",
       "0          279    4.28            3732237  \n",
       "1          313    4.16            4501032  \n",
       "2          448    4.16             607767  \n",
       "3          498    3.63            5901197  \n",
       "4          365    3.98             537504  "
      ]
     },
     "execution_count": 4,
     "metadata": {},
     "output_type": "execute_result"
    }
   ],
   "source": [
    "book_df.head()"
   ]
  },
  {
   "cell_type": "markdown",
   "id": "1764c74e",
   "metadata": {},
   "source": [
    "## Preprocess Text Data\n",
    "- Import necessary libraries\n",
    "- Import Enlgish stopwords\n",
    "- Create function to clean text"
   ]
  },
  {
   "cell_type": "code",
   "execution_count": 5,
   "id": "4bb1527f",
   "metadata": {},
   "outputs": [],
   "source": [
    "import nltk\n",
    "import re\n",
    "import numpy as np"
   ]
  },
  {
   "cell_type": "code",
   "execution_count": 6,
   "id": "b93998c9",
   "metadata": {},
   "outputs": [],
   "source": [
    "en_stopwords = nltk.corpus.stopwords.words('english')"
   ]
  },
  {
   "cell_type": "code",
   "execution_count": 7,
   "id": "fd39e0a0",
   "metadata": {},
   "outputs": [],
   "source": [
    "# function modified from Sarkar\n",
    "def normalize_document(doc):\n",
    "    # lower case and remove special characters/whitespace\n",
    "    doc = re.sub(r'[^a-zA-Z0-9\\s]', '', doc, re.I|re.A)\n",
    "    doc = doc.lower()\n",
    "    doc = doc.strip()\n",
    "    # tokenize document\n",
    "    tokens = nltk.word_tokenize(doc)\n",
    "    # filter stopwords out of document\n",
    "    filtered_tokens = [t for t in tokens if t not in en_stopwords] # recreate document from filtered tokens\n",
    "    doc = ' '.join(filtered_tokens)\n",
    "    return doc"
   ]
  },
  {
   "cell_type": "code",
   "execution_count": 8,
   "id": "52844b55",
   "metadata": {},
   "outputs": [
    {
     "data": {
      "text/plain": [
       "1242"
      ]
     },
     "execution_count": 8,
     "metadata": {},
     "output_type": "execute_result"
    }
   ],
   "source": [
    "normalize_corpus = np.vectorize(normalize_document)\n",
    "norm_corpus = normalize_corpus(book_df['synopsis'])\n",
    "len(norm_corpus)"
   ]
  },
  {
   "cell_type": "code",
   "execution_count": 9,
   "id": "81328e85",
   "metadata": {},
   "outputs": [],
   "source": [
    "# function to remove parentheticals from book titles\n",
    "def normalize_titles(doc):\n",
    "    doc = re.sub('[\\(\\[].*?[\\)\\]]', '', doc)\n",
    "    doc.strip()\n",
    "    return doc"
   ]
  },
  {
   "cell_type": "code",
   "execution_count": 10,
   "id": "210e9d55",
   "metadata": {},
   "outputs": [],
   "source": [
    "for i in range(len(book_df)):\n",
    "    title = book_df.loc[i, 'title']\n",
    "    norm_title = normalize_titles(title)\n",
    "    book_df.loc[i, 'title'] = norm_title"
   ]
  },
  {
   "cell_type": "code",
   "execution_count": 11,
   "id": "3f8706e9",
   "metadata": {},
   "outputs": [
    {
     "data": {
      "text/html": [
       "<div>\n",
       "<style scoped>\n",
       "    .dataframe tbody tr th:only-of-type {\n",
       "        vertical-align: middle;\n",
       "    }\n",
       "\n",
       "    .dataframe tbody tr th {\n",
       "        vertical-align: top;\n",
       "    }\n",
       "\n",
       "    .dataframe thead th {\n",
       "        text-align: right;\n",
       "    }\n",
       "</style>\n",
       "<table border=\"1\" class=\"dataframe\">\n",
       "  <thead>\n",
       "    <tr style=\"text-align: right;\">\n",
       "      <th></th>\n",
       "      <th>Unnamed: 0</th>\n",
       "      <th>title</th>\n",
       "      <th>author</th>\n",
       "      <th>release year</th>\n",
       "      <th>synopsis</th>\n",
       "      <th>book length</th>\n",
       "      <th>rating</th>\n",
       "      <th>number of ratings</th>\n",
       "    </tr>\n",
       "  </thead>\n",
       "  <tbody>\n",
       "    <tr>\n",
       "      <th>0</th>\n",
       "      <td>0</td>\n",
       "      <td>Pride and Prejudice</td>\n",
       "      <td>Jane Austen</td>\n",
       "      <td>1813</td>\n",
       "      <td>Alternate cover edition of ISBN 9780679783268S...</td>\n",
       "      <td>279</td>\n",
       "      <td>4.28</td>\n",
       "      <td>3732237</td>\n",
       "    </tr>\n",
       "    <tr>\n",
       "      <th>1</th>\n",
       "      <td>1</td>\n",
       "      <td>The Fault in Our Stars</td>\n",
       "      <td>John Green</td>\n",
       "      <td>2012</td>\n",
       "      <td>Despite the tumor-shrinking medical miracle th...</td>\n",
       "      <td>313</td>\n",
       "      <td>4.16</td>\n",
       "      <td>4501032</td>\n",
       "    </tr>\n",
       "    <tr>\n",
       "      <th>2</th>\n",
       "      <td>2</td>\n",
       "      <td>Red, White &amp; Royal Blue</td>\n",
       "      <td>Casey McQuiston</td>\n",
       "      <td>2019</td>\n",
       "      <td>Original cover edition of ASIN B07J4LPZRN here...</td>\n",
       "      <td>448</td>\n",
       "      <td>4.16</td>\n",
       "      <td>607767</td>\n",
       "    </tr>\n",
       "    <tr>\n",
       "      <th>3</th>\n",
       "      <td>3</td>\n",
       "      <td>Twilight</td>\n",
       "      <td>Stephenie Meyer</td>\n",
       "      <td>2005</td>\n",
       "      <td>About three things I was absolutely positive.F...</td>\n",
       "      <td>498</td>\n",
       "      <td>3.63</td>\n",
       "      <td>5901197</td>\n",
       "    </tr>\n",
       "    <tr>\n",
       "      <th>4</th>\n",
       "      <td>4</td>\n",
       "      <td>The Hating Game</td>\n",
       "      <td>Sally  Thorne</td>\n",
       "      <td>2016</td>\n",
       "      <td>Nemesis (n.) 1) An opponent or rival whom a pe...</td>\n",
       "      <td>365</td>\n",
       "      <td>3.98</td>\n",
       "      <td>537504</td>\n",
       "    </tr>\n",
       "  </tbody>\n",
       "</table>\n",
       "</div>"
      ],
      "text/plain": [
       "   Unnamed: 0                     title           author  release year  \\\n",
       "0           0      Pride and Prejudice       Jane Austen          1813   \n",
       "1           1   The Fault in Our Stars        John Green          2012   \n",
       "2           2  Red, White & Royal Blue   Casey McQuiston          2019   \n",
       "3           3                 Twilight   Stephenie Meyer          2005   \n",
       "4           4          The Hating Game     Sally  Thorne          2016   \n",
       "\n",
       "                                            synopsis  book length  rating  \\\n",
       "0  Alternate cover edition of ISBN 9780679783268S...          279    4.28   \n",
       "1  Despite the tumor-shrinking medical miracle th...          313    4.16   \n",
       "2  Original cover edition of ASIN B07J4LPZRN here...          448    4.16   \n",
       "3  About three things I was absolutely positive.F...          498    3.63   \n",
       "4  Nemesis (n.) 1) An opponent or rival whom a pe...          365    3.98   \n",
       "\n",
       "   number of ratings  \n",
       "0            3732237  \n",
       "1            4501032  \n",
       "2             607767  \n",
       "3            5901197  \n",
       "4             537504  "
      ]
     },
     "execution_count": 11,
     "metadata": {},
     "output_type": "execute_result"
    }
   ],
   "source": [
    "book_df.head()"
   ]
  },
  {
   "cell_type": "markdown",
   "id": "cd63421e",
   "metadata": {},
   "source": [
    "## Feature Extraction"
   ]
  },
  {
   "cell_type": "code",
   "execution_count": 12,
   "id": "efdc2640",
   "metadata": {},
   "outputs": [
    {
     "data": {
      "text/plain": [
       "(1242, 6914)"
      ]
     },
     "execution_count": 12,
     "metadata": {},
     "output_type": "execute_result"
    }
   ],
   "source": [
    "from sklearn.feature_extraction.text import TfidfVectorizer\n",
    "\n",
    "tf = TfidfVectorizer(ngram_range=(1, 2), min_df=2)\n",
    "tfidf_matrix = tf.fit_transform(norm_corpus)\n",
    "tfidf_matrix.shape"
   ]
  },
  {
   "cell_type": "markdown",
   "id": "f3526e86",
   "metadata": {},
   "source": [
    "## Main Functionality\n",
    "We will use cosine similarity to calculate the similarity between book synopses."
   ]
  },
  {
   "cell_type": "code",
   "execution_count": 13,
   "id": "8e3ddc94",
   "metadata": {},
   "outputs": [
    {
     "data": {
      "text/html": [
       "<div>\n",
       "<style scoped>\n",
       "    .dataframe tbody tr th:only-of-type {\n",
       "        vertical-align: middle;\n",
       "    }\n",
       "\n",
       "    .dataframe tbody tr th {\n",
       "        vertical-align: top;\n",
       "    }\n",
       "\n",
       "    .dataframe thead th {\n",
       "        text-align: right;\n",
       "    }\n",
       "</style>\n",
       "<table border=\"1\" class=\"dataframe\">\n",
       "  <thead>\n",
       "    <tr style=\"text-align: right;\">\n",
       "      <th></th>\n",
       "      <th>0</th>\n",
       "      <th>1</th>\n",
       "      <th>2</th>\n",
       "      <th>3</th>\n",
       "      <th>4</th>\n",
       "      <th>5</th>\n",
       "      <th>6</th>\n",
       "      <th>7</th>\n",
       "      <th>8</th>\n",
       "      <th>9</th>\n",
       "      <th>...</th>\n",
       "      <th>1232</th>\n",
       "      <th>1233</th>\n",
       "      <th>1234</th>\n",
       "      <th>1235</th>\n",
       "      <th>1236</th>\n",
       "      <th>1237</th>\n",
       "      <th>1238</th>\n",
       "      <th>1239</th>\n",
       "      <th>1240</th>\n",
       "      <th>1241</th>\n",
       "    </tr>\n",
       "  </thead>\n",
       "  <tbody>\n",
       "    <tr>\n",
       "      <th>0</th>\n",
       "      <td>1.000000</td>\n",
       "      <td>0.000000</td>\n",
       "      <td>0.053536</td>\n",
       "      <td>0.000000</td>\n",
       "      <td>0.0</td>\n",
       "      <td>0.018914</td>\n",
       "      <td>0.005503</td>\n",
       "      <td>0.004386</td>\n",
       "      <td>0.015429</td>\n",
       "      <td>0.014146</td>\n",
       "      <td>...</td>\n",
       "      <td>0.037887</td>\n",
       "      <td>0.000000</td>\n",
       "      <td>0.0</td>\n",
       "      <td>0.009019</td>\n",
       "      <td>0.054977</td>\n",
       "      <td>0.029931</td>\n",
       "      <td>0.000000</td>\n",
       "      <td>0.011928</td>\n",
       "      <td>0.045286</td>\n",
       "      <td>0.000000</td>\n",
       "    </tr>\n",
       "    <tr>\n",
       "      <th>1</th>\n",
       "      <td>0.000000</td>\n",
       "      <td>1.000000</td>\n",
       "      <td>0.000000</td>\n",
       "      <td>0.017747</td>\n",
       "      <td>0.0</td>\n",
       "      <td>0.000000</td>\n",
       "      <td>0.000000</td>\n",
       "      <td>0.049478</td>\n",
       "      <td>0.000000</td>\n",
       "      <td>0.000000</td>\n",
       "      <td>...</td>\n",
       "      <td>0.000000</td>\n",
       "      <td>0.023378</td>\n",
       "      <td>0.0</td>\n",
       "      <td>0.000000</td>\n",
       "      <td>0.000000</td>\n",
       "      <td>0.050286</td>\n",
       "      <td>0.008859</td>\n",
       "      <td>0.000000</td>\n",
       "      <td>0.000000</td>\n",
       "      <td>0.000000</td>\n",
       "    </tr>\n",
       "    <tr>\n",
       "      <th>2</th>\n",
       "      <td>0.053536</td>\n",
       "      <td>0.000000</td>\n",
       "      <td>1.000000</td>\n",
       "      <td>0.000000</td>\n",
       "      <td>0.0</td>\n",
       "      <td>0.000000</td>\n",
       "      <td>0.037943</td>\n",
       "      <td>0.000000</td>\n",
       "      <td>0.000000</td>\n",
       "      <td>0.020088</td>\n",
       "      <td>...</td>\n",
       "      <td>0.000000</td>\n",
       "      <td>0.000000</td>\n",
       "      <td>0.0</td>\n",
       "      <td>0.000000</td>\n",
       "      <td>0.049408</td>\n",
       "      <td>0.000000</td>\n",
       "      <td>0.000000</td>\n",
       "      <td>0.020578</td>\n",
       "      <td>0.051659</td>\n",
       "      <td>0.000000</td>\n",
       "    </tr>\n",
       "    <tr>\n",
       "      <th>3</th>\n",
       "      <td>0.000000</td>\n",
       "      <td>0.017747</td>\n",
       "      <td>0.000000</td>\n",
       "      <td>1.000000</td>\n",
       "      <td>0.0</td>\n",
       "      <td>0.013005</td>\n",
       "      <td>0.000000</td>\n",
       "      <td>0.000000</td>\n",
       "      <td>0.000000</td>\n",
       "      <td>0.015674</td>\n",
       "      <td>...</td>\n",
       "      <td>0.000000</td>\n",
       "      <td>0.013241</td>\n",
       "      <td>0.0</td>\n",
       "      <td>0.014726</td>\n",
       "      <td>0.033820</td>\n",
       "      <td>0.000000</td>\n",
       "      <td>0.000000</td>\n",
       "      <td>0.000000</td>\n",
       "      <td>0.000000</td>\n",
       "      <td>0.000000</td>\n",
       "    </tr>\n",
       "    <tr>\n",
       "      <th>4</th>\n",
       "      <td>0.000000</td>\n",
       "      <td>0.000000</td>\n",
       "      <td>0.000000</td>\n",
       "      <td>0.000000</td>\n",
       "      <td>1.0</td>\n",
       "      <td>0.000000</td>\n",
       "      <td>0.000000</td>\n",
       "      <td>0.000000</td>\n",
       "      <td>0.009644</td>\n",
       "      <td>0.053200</td>\n",
       "      <td>...</td>\n",
       "      <td>0.000000</td>\n",
       "      <td>0.000000</td>\n",
       "      <td>0.0</td>\n",
       "      <td>0.000000</td>\n",
       "      <td>0.022652</td>\n",
       "      <td>0.024015</td>\n",
       "      <td>0.000000</td>\n",
       "      <td>0.000000</td>\n",
       "      <td>0.000000</td>\n",
       "      <td>0.041415</td>\n",
       "    </tr>\n",
       "  </tbody>\n",
       "</table>\n",
       "<p>5 rows × 1242 columns</p>\n",
       "</div>"
      ],
      "text/plain": [
       "       0         1         2         3     4         5         6         7     \\\n",
       "0  1.000000  0.000000  0.053536  0.000000   0.0  0.018914  0.005503  0.004386   \n",
       "1  0.000000  1.000000  0.000000  0.017747   0.0  0.000000  0.000000  0.049478   \n",
       "2  0.053536  0.000000  1.000000  0.000000   0.0  0.000000  0.037943  0.000000   \n",
       "3  0.000000  0.017747  0.000000  1.000000   0.0  0.013005  0.000000  0.000000   \n",
       "4  0.000000  0.000000  0.000000  0.000000   1.0  0.000000  0.000000  0.000000   \n",
       "\n",
       "       8         9     ...      1232      1233  1234      1235      1236  \\\n",
       "0  0.015429  0.014146  ...  0.037887  0.000000   0.0  0.009019  0.054977   \n",
       "1  0.000000  0.000000  ...  0.000000  0.023378   0.0  0.000000  0.000000   \n",
       "2  0.000000  0.020088  ...  0.000000  0.000000   0.0  0.000000  0.049408   \n",
       "3  0.000000  0.015674  ...  0.000000  0.013241   0.0  0.014726  0.033820   \n",
       "4  0.009644  0.053200  ...  0.000000  0.000000   0.0  0.000000  0.022652   \n",
       "\n",
       "       1237      1238      1239      1240      1241  \n",
       "0  0.029931  0.000000  0.011928  0.045286  0.000000  \n",
       "1  0.050286  0.008859  0.000000  0.000000  0.000000  \n",
       "2  0.000000  0.000000  0.020578  0.051659  0.000000  \n",
       "3  0.000000  0.000000  0.000000  0.000000  0.000000  \n",
       "4  0.024015  0.000000  0.000000  0.000000  0.041415  \n",
       "\n",
       "[5 rows x 1242 columns]"
      ]
     },
     "execution_count": 13,
     "metadata": {},
     "output_type": "execute_result"
    }
   ],
   "source": [
    "from sklearn.metrics.pairwise import cosine_similarity\n",
    "\n",
    "doc_similarity = cosine_similarity(tfidf_matrix)\n",
    "doc_similarity_df = pd.DataFrame(doc_similarity)\n",
    "doc_similarity_df.head()"
   ]
  },
  {
   "cell_type": "code",
   "execution_count": 28,
   "id": "34d24a49",
   "metadata": {},
   "outputs": [],
   "source": [
    "book_list = book_df['title'].values\n",
    "author_list = book_df['author'].values\n",
    "\n",
    "# adapted from Week 8 Coding Practice, this will return the top 3 similar books for a given book\n",
    "def book_recommender(book_title, books=book_list, authors=author_list, doc_sims=doc_similarity_df): \n",
    "    book_index = np.where(books == book_title)[0][0]\n",
    "    book_similarities = doc_sims.iloc[book_index].values \n",
    "    similar_book_indices = np.argsort(-book_similarities)[1:4]\n",
    "    similar_books = books[similar_book_indices]\n",
    "    similar_authors = authors[similar_book_indices]\n",
    "    \n",
    "    books_with_authors = []\n",
    "    for i in range(len(similar_books)):\n",
    "        b_title = similar_books[i]\n",
    "        b_author = similar_authors[i]\n",
    "        books_with_authors.append(str(b_title + 'by ' + b_author))\n",
    "    return books_with_authors"
   ]
  },
  {
   "cell_type": "markdown",
   "id": "15cbf6de",
   "metadata": {},
   "source": [
    "### Randomly Select 5 Books and Generate Recommendations "
   ]
  },
  {
   "cell_type": "code",
   "execution_count": 18,
   "id": "69ebee65",
   "metadata": {},
   "outputs": [
    {
     "name": "stdout",
     "output_type": "stream",
     "text": [
      "['The Fine Print ', 'When He Was Wicked ', 'Definitely Dead ', 'To Have and to Hoax ', 'The Marriage Game ']\n"
     ]
    }
   ],
   "source": [
    "import random\n",
    "random_books = random.choices(book_list, k=5)\n",
    "print(random_books)"
   ]
  },
  {
   "cell_type": "code",
   "execution_count": 29,
   "id": "adb0feae",
   "metadata": {},
   "outputs": [
    {
     "name": "stdout",
     "output_type": "stream",
     "text": [
      "Book: The Fine Print by Lauren Asher\n",
      "Top 3 Recommended Books: ['Idol by Kristen Callihan', 'This Heart of Mine by Lisa Kleypas', 'The Kiss Thief by L.J. Shen']\n",
      "\n",
      "Book: When He Was Wicked by Julia Quinn\n",
      "Top 3 Recommended Books: ['Rule by Jay Crownover', \"The Lover's Dictionary by David Levithan\", 'Entwined with You by Sylvia Day']\n",
      "\n",
      "Book: Definitely Dead by Charlaine Harris\n",
      "Top 3 Recommended Books: ['All Together Dead by Charlaine Harris', 'Dead Until Dark by Kate Stayman-London', 'From Dead to Worse by Charlaine Harris']\n",
      "\n",
      "Book: To Have and to Hoax by Martha Waters\n",
      "Top 3 Recommended Books: ['Him by Sarina Bowen', \"Lady Isabella's Scandalous Marriage by Jennifer Ashley\", 'Ten Tiny Breaths by K.A. Tucker']\n",
      "\n",
      "Book: The Marriage Game by Sara Desai\n",
      "Top 3 Recommended Books: ['Layla by Colleen Hoover', 'White Hot Kiss by Jennifer L. Armentrout', 'Wallbanger by Alice Clayton']\n",
      "\n"
     ]
    }
   ],
   "source": [
    "for book in random_books:\n",
    "    for b in range(len(book_list)):\n",
    "        if book_list[b] == book:\n",
    "            print('Book: ' + book + 'by ' + author_list[b])\n",
    "            print('Top 3 Recommended Books:', book_recommender(book_title=book))\n",
    "            print()"
   ]
  },
  {
   "cell_type": "markdown",
   "id": "dbf5f8d1",
   "metadata": {},
   "source": [
    "## Personal Contribution Statement\n",
    "Working on this section of the project gave me different ideas of how I could improve the recommendation engine. The first idea I had was to add columns for 2-3 subgenres for the books. This would add another dimension to determining the similarity between books. The second idea I had was to filter out books with the same author when giving a recommendation because reading a book by the same author seems like a given. By eliminating books by the same author, I would be able to provide more recommendations for the user. The biggest element of the project I need to nail down is how I want the user to enter the book that the want recommendations for. Ideally, the user would be able to enter the name of any romance book. However, the way the recommendation engine is set up now it can only provide recommendations for books that exist in the dataset. I am brainstorming a way to search Goodreads for information about the user's selected book and compare it to the books in the dataset."
   ]
  }
 ],
 "metadata": {
  "kernelspec": {
   "display_name": "Python 3 (ipykernel)",
   "language": "python",
   "name": "python3"
  },
  "language_info": {
   "codemirror_mode": {
    "name": "ipython",
    "version": 3
   },
   "file_extension": ".py",
   "mimetype": "text/x-python",
   "name": "python",
   "nbconvert_exporter": "python",
   "pygments_lexer": "ipython3",
   "version": "3.7.7"
  }
 },
 "nbformat": 4,
 "nbformat_minor": 5
}
